{
 "cells": [
  {
   "cell_type": "code",
   "execution_count": 6,
   "metadata": {},
   "outputs": [],
   "source": [
    "import numpy as np\n",
    "import matplotlib.pylab as plt\n",
    "from matplotlib import colors\n",
    "import matplotlib.animation as animation"
   ]
  },
  {
   "cell_type": "code",
   "execution_count": 72,
   "metadata": {},
   "outputs": [],
   "source": [
    "class Terrain():\n",
    "    def __init__(self, n, prob_land=.4, simulations = False):\n",
    "        \"\"\"Creates land masses for game\n",
    "        Parameters:\n",
    "            n: size of output vector (nxn)\n",
    "            prob_land: probability that a given tile will be land\n",
    "            cell_limit: how sensitive cellular automata is\n",
    "            simulations: value if defining number of simulations            \n",
    "        \"\"\"\n",
    "        if simulations:\n",
    "            self.simulations = simulations\n",
    "        else:\n",
    "            self.simulations = np.max([n//10, 5])\n",
    "        self.n = n\n",
    "        \n",
    "        #initial random terrain\n",
    "        self.terrain_raw = np.matrix(np.reshape(np.random.choice(2, (n)**2, p=[1-prob_land, prob_land]), (n,n)))\n",
    "        \n",
    "        #terrain after cellular automata with 4 like cells\n",
    "        self.terrain, self.t_sims = Terrain.land_simulation(self.terrain_raw, 4, self.simulations)\n",
    "    \n",
    "    def land_simulation(terrain, cell_limit, simulations):\n",
    "        \"\"\"Simulates the cellular automata of land masses\"\"\"\n",
    "        sims = list()\n",
    "        for i in range(simulations):\n",
    "            terrain = Terrain.cellular_automata(terrain, n, cell_limit)\n",
    "            sims.append(terrain)\n",
    "        return terrain, sims\n",
    "    \n",
    "    def assign_value(terrain, x, y, cell_limit):\n",
    "        \"\"\"Calculates if cell is water or land by looking at surrounding cells\"\"\"\n",
    "        if x == 0:\n",
    "            x = 1\n",
    "        if y == 0:\n",
    "            y = 1\n",
    "        grid = terrain[y-1:y+2, x-1:x+2]\n",
    "        #grid[1,1] = 0\n",
    "        if grid.sum() <= cell_limit:\n",
    "            return 0\n",
    "        else:\n",
    "            return 1\n",
    "        \n",
    "    def cellular_automata(terrain, n, cell_limit):\n",
    "        \"\"\"Updates the terrain of a given simulation\"\"\"\n",
    "        vals = list()\n",
    "        for x in range(n):\n",
    "            for y in range(n):\n",
    "                vals.append(Terrain.assign_value(terrain, y, x, cell_limit))\n",
    "        vals_m = np.matrix(np.asarray(vals).reshape(n,n))\n",
    "        return vals_m\n",
    "    \n",
    "    def make_gif(t):\n",
    "        \"\"\"Converts simulations to gif\"\"\"\n",
    "        fig = plt.figure()\n",
    "        ims = []\n",
    "        cmap = colors.ListedColormap(['blue', 'green'])\n",
    "        bounds=[0,.5,1]\n",
    "        norm = colors.BoundaryNorm(bounds, cmap.N)\n",
    "\n",
    "        for i in range(t.simulations):\n",
    "            im = plt.imshow(t.t_sims[i], interpolation='nearest', origin='lower',\n",
    "                            cmap=cmap, norm=norm)\n",
    "            im.axes.get_yaxis().set_visible(False)\n",
    "            im.axes.get_xaxis().set_visible(False)\n",
    "            ims.append([im])\n",
    "\n",
    "        ani = animation.ArtistAnimation(fig, ims, interval=500, blit=True, repeat_delay=0)\n",
    "\n",
    "        ani.save('land_generation{}.gif'.format(t.n))\n",
    "        plt.show()\n",
    "    \n",
    "    def show_img(data):\n",
    "        \"\"\"Shows figure\"\"\"\n",
    "        cmap = colors.ListedColormap(['blue', 'green'])\n",
    "        bounds=[0,.5,1]\n",
    "        norm = colors.BoundaryNorm(bounds, cmap.N)\n",
    "        im = plt.imshow(data, interpolation='nearest', origin='lower',\n",
    "                            cmap=cmap, norm=norm)\n",
    "        im.axes.get_yaxis().set_visible(False)\n",
    "        im.axes.get_xaxis().set_visible(False)\n",
    "        \n",
    "        plt.savefig('map{}.png'.format(data.shape[0]))\n"
   ]
  },
  {
   "cell_type": "code",
   "execution_count": 73,
   "metadata": {},
   "outputs": [],
   "source": [
    "n = 50\n",
    "t = Terrain(n, prob_land=.5)"
   ]
  },
  {
   "cell_type": "code",
   "execution_count": 74,
   "metadata": {},
   "outputs": [
    {
     "data": {
      "image/png": "[encoded data removed]",
      "text/plain": [
       "<Figure size 432x288 with 1 Axes>"
      ]
     },
     "metadata": {
      "needs_background": "light"
     },
     "output_type": "display_data"
    }
   ],
   "source": [
    "Terrain.show_img(t.terrain)"
   ]
  },
  {
   "cell_type": "code",
   "execution_count": 75,
   "metadata": {},
   "outputs": [
    {
     "name": "stderr",
     "output_type": "stream",
     "text": [
      "MovieWriter ffmpeg unavailable. Trying to use pillow instead.\n"
     ]
    },
    {
     "data": {
      "image/png": "[encoded data removed]",
      "text/plain": [
       "<Figure size 432x288 with 1 Axes>"
      ]
     },
     "metadata": {
      "needs_background": "light"
     },
     "output_type": "display_data"
    }
   ],
   "source": [
    "Terrain.make_gif(t)"
   ]
  },
  {
   "cell_type": "code",
   "execution_count": null,
   "metadata": {},
   "outputs": [],
   "source": []
  }
 ],
 "metadata": {
  "kernelspec": {
   "display_name": "Python 3",
   "language": "python",
   "name": "python3"
  },
  "language_info": {
   "codemirror_mode": {
    "name": "ipython",
    "version": 3
   },
   "file_extension": ".py",
   "mimetype": "text/x-python",
   "name": "python",
   "nbconvert_exporter": "python",
   "pygments_lexer": "ipython3",
   "version": "3.7.3"
  }
 },
 "nbformat": 4,
 "nbformat_minor": 2
}
